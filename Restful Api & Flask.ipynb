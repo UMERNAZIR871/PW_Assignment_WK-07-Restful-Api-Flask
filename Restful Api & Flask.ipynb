{
 "cells": [
  {
   "cell_type": "markdown",
   "id": "81fe864c-57d5-4cf7-be97-a2c70e8e1e33",
   "metadata": {},
   "source": [
    "# Restful Api & Flask ASSIGNMENT"
   ]
  },
  {
   "cell_type": "markdown",
   "id": "dd8e1f19-3c58-437c-87d2-789e7ef90c63",
   "metadata": {},
   "source": [
    "#     Theory Questions"
   ]
  },
  {
   "cell_type": "markdown",
   "id": "59d32319-1691-4e43-9f07-8949091e752c",
   "metadata": {},
   "source": [
    "**Q 1.  What is a RESTful API?**"
   ]
  },
  {
   "cell_type": "markdown",
   "id": "9a105e24-4d21-40e8-9e76-3b343223ac33",
   "metadata": {},
   "source": [
    "**Ans.**  RESTful API (Representational State Transfer API) is a web service architecture that enables communication between client and server over the HTTP protocol using stateless operations. It treats server-side data as resources, each identified by a unique URI, and allows clients to perform standard operations using HTTP methods such as:"
   ]
  },
  {
   "cell_type": "markdown",
   "id": "35a9ce76-d83d-4b0e-b5b9-43b56def88da",
   "metadata": {},
   "source": [
    "- GET – Retrieve a resource\n",
    "- POST – Create a new resource\n",
    "- PUT – Update an existing resource\n",
    "- DELETE – Remove a resource"
   ]
  },
  {
   "cell_type": "markdown",
   "id": "47f7f77a-e622-4a7f-9a30-1459c62e49fe",
   "metadata": {},
   "source": [
    "RESTful APIs typically exchange data in JSON format and follow a uniform interface, promoting simplicity, scalability, and maintainability in distributed systems."
   ]
  },
  {
   "cell_type": "markdown",
   "id": "5bed3071-a75a-4345-a6cc-55d5643b01b3",
   "metadata": {},
   "source": [
    "**Q 2.  Explain the concept of API specification.**"
   ]
  },
  {
   "cell_type": "markdown",
   "id": "2846dd72-f1d2-43ef-9c2e-301f75de18ce",
   "metadata": {},
   "source": [
    "**Ans.** An API specification is a formal, structured document or standard that defines how software components should interact through an Application Programming Interface (API)."
   ]
  },
  {
   "cell_type": "markdown",
   "id": "07b9f046-5d3c-47bb-b94d-e02ea6ede608",
   "metadata": {},
   "source": [
    "Key Elements of an API Specification:"
   ]
  },
  {
   "cell_type": "markdown",
   "id": "546cb111-b626-40cf-b52f-cb3ac22069ec",
   "metadata": {},
   "source": [
    "1. Endpoints & Routes: Defines the available URLs (routes) that clients can use to access or manipulate resources.\n",
    "2. HTTP Methods: Specifies the operations allowed on each endpoint, such as GET, POST, PUT, and DELETE.\n",
    "3. Request Parameters: Details the query parameters, path variables, headers, and body content required or optional in a request.\n",
    "4. Request & Response Formats: Defines the data structure (typically JSON or XML) for both input (request) and output (response), including field types and validation rules.\n",
    "5. Authentication & Authorization: Specifies how access is secured, e.g., using API keys, OAuth tokens, or JWT.\n",
    "6. Error Handling: Describes standard error codes (e.g., 400, 401, 404, 500) and the format of error responses."
   ]
  },
  {
   "cell_type": "markdown",
   "id": "94893925-99a3-4c64-9cd7-f739e6a7ed0a",
   "metadata": {},
   "source": [
    "Why API Specifications Are Important:\n",
    "- Ensure consistency and interoperability across systems\n",
    "- Facilitate developer understanding and integration\n",
    "- Support automated testing, documentation, and code generation\n",
    "- Serve as a contract between backend developers, frontend developers, and third-party users"
   ]
  },
  {
   "cell_type": "markdown",
   "id": "5efa09b8-05df-44a2-af22-6717856ff5f6",
   "metadata": {},
   "source": [
    "Common API Specification Standards:\n",
    "- OpenAPI (Swagger) – Most widely used format for REST APIs\n",
    "- RAML (RESTful API Modeling Language)\n",
    "- API Blueprint\n",
    "- gRPC Interface Definition Language (IDL) – for gRPC APIs"
   ]
  },
  {
   "cell_type": "markdown",
   "id": "3c2cbf36-8298-45c7-a1d8-4adba62adadb",
   "metadata": {},
   "source": [
    "**Q 3. What is Flask, and why is it popular for building APIs**"
   ]
  },
  {
   "cell_type": "markdown",
   "id": "fb586d33-e707-472f-9d6c-c74ac2e7036e",
   "metadata": {},
   "source": [
    "**Ans.** Flask is a lightweight, open-source Python web framework used for building web applications and RESTful APIs. It is based on the Werkzeug WSGI toolkit and the Jinja2 template engine."
   ]
  },
  {
   "cell_type": "markdown",
   "id": "f3f042ca-5eed-4813-bf47-132c0ac30b39",
   "metadata": {},
   "source": [
    "Why Flask Is Popular for Building APIs:\n",
    "1. Lightweight and Minimalistic:\n",
    "    - Flask is \"micro\" by design, meaning it provides the essentials without imposing structure or dependencies.\n",
    "    - You only add what you need, making it ideal for simple or small-scale APIs.\n",
    "\n",
    "2. Easy to Learn and Use\n",
    "    - Flask has a clear, readable syntax and a gentle learning curve, especially for beginners in web development or Python.\n",
    "    - Simple API routes can be created with just a few lines of code.\n",
    "\n",
    "3. Flexible and Extensible\n",
    "    - Flask doesn’t force a specific project layout or tools.\n",
    "    - Developers can integrate any database, authentication system, or third-party library.\n",
    "\n",
    "4. RESTful API Support\n",
    "    - Flask makes it easy to define API endpoints, handle HTTP methods (GET, POST, etc.), and return JSON responses.\n",
    "    - Libraries like Flask-RESTful and Flask-SQLAlchemy simplify API development even further.\n",
    "\n",
    "5. Strong Community and Documentation\n",
    "    - Flask has extensive community support, tutorials, and plugins.\n",
    "    - Clear documentation helps developers implement advanced features."
   ]
  },
  {
   "cell_type": "markdown",
   "id": "2d3ecee6-4b2d-4719-ba9d-dd48a446eb28",
   "metadata": {},
   "source": [
    "**Q 4. What is routing in Flask.**"
   ]
  },
  {
   "cell_type": "markdown",
   "id": "b6346b7e-df92-499a-a4ee-0425980bd5d9",
   "metadata": {},
   "source": [
    "**Ans.** Routing in Flask is the process of mapping a URL to a specific function (called a view function) that will handle the request and return a response."
   ]
  },
  {
   "cell_type": "markdown",
   "id": "e0f4c8ad-68e1-4ae4-a85b-b65f810af1d4",
   "metadata": {},
   "source": [
    "In simple terms, it tells Flask what to do when a user accesses a specific URL."
   ]
  },
  {
   "cell_type": "markdown",
   "id": "86c233f6-9e9e-4022-b4c8-56407d355009",
   "metadata": {},
   "source": [
    "**Q 5. How do you create a simple Flask application?**"
   ]
  },
  {
   "cell_type": "markdown",
   "id": "909b3955-acd9-4baa-bff4-279fdbebb2cb",
   "metadata": {},
   "source": [
    "**Ans.** Here’s a step-by-step guide to creating a basic Flask app that runs on your local machine:"
   ]
  },
  {
   "cell_type": "markdown",
   "id": "7caf5d13-97df-4f19-a246-608ac9384e42",
   "metadata": {},
   "source": [
    "1. Install Flask: If Flask is not already installed, install it using pip:"
   ]
  },
  {
   "cell_type": "markdown",
   "id": "dd2efbde-28c8-42d3-8bca-d17108ee1eba",
   "metadata": {},
   "source": [
    "pip install flask"
   ]
  },
  {
   "cell_type": "markdown",
   "id": "c5a6ffe5-e76c-4239-a3ac-fc69a6b1143b",
   "metadata": {},
   "source": [
    "2. Create the Application File: Create a Python file, e.g., app.py, and add the following code:"
   ]
  },
  {
   "cell_type": "markdown",
   "id": "1ea4ecca-cc16-49a1-9a5c-5b5941ceb7e8",
   "metadata": {},
   "source": [
    "from flask import Flask\n",
    "\n",
    "# Initialize the Flask application\n",
    "app = Flask(__name__)\n",
    "\n",
    "# Define a route\n",
    "@app.route('/')\n",
    "def home():\n",
    "    return \"Hello, Flask!\"\n",
    "\n",
    "# Run the application\n",
    "if __name__ == '__main__':\n",
    "    app.run(debug=True)\n"
   ]
  },
  {
   "cell_type": "markdown",
   "id": "4cd7ecd0-4780-40ea-ad23-a500aada1359",
   "metadata": {},
   "source": [
    "3. Run the Flask App: In your terminal or command prompt, navigate to the folder containing app.py, then run:"
   ]
  },
  {
   "cell_type": "markdown",
   "id": "eabab338-9a22-49e4-83a4-3fadf4a11728",
   "metadata": {},
   "source": [
    "python app.py"
   ]
  },
  {
   "cell_type": "markdown",
   "id": "776d502e-552f-453e-ab54-423f4106a360",
   "metadata": {},
   "source": [
    "You’ll see output like:"
   ]
  },
  {
   "cell_type": "markdown",
   "id": "7b8e0b7b-dd63-44d1-8f35-8eee0e41666d",
   "metadata": {},
   "source": [
    " * Running on http://127.0.0.1:5000/ (Press CTRL+C to quit)"
   ]
  },
  {
   "cell_type": "markdown",
   "id": "5a451975-4258-4a79-aed2-ed5cd139ddb0",
   "metadata": {},
   "source": [
    "**Q 6.  What are HTTP methods used in RESTful APIs?**"
   ]
  },
  {
   "cell_type": "markdown",
   "id": "bccf1aa3-156a-4a75-99bb-0169eb4203b2",
   "metadata": {},
   "source": [
    "**Ans.** HTTP Methods Used in RESTful APIs : In RESTful APIs, HTTP methods define the type of operation a client wants to perform on a resource. Each method has a specific semantic meaning and is used according to the REST principles."
   ]
  },
  {
   "cell_type": "markdown",
   "id": "fb5b8dc0-977e-4cc1-9cff-0861dafc97fe",
   "metadata": {},
   "source": [
    "Common HTTP Methods:"
   ]
  },
  {
   "cell_type": "markdown",
   "id": "3822ea6d-70a6-4515-9349-65d6f310963f",
   "metadata": {},
   "source": [
    "| Method    | Purpose                            | Description                                                               |\n",
    "| --------- | ---------------------------------- | ------------------------------------------------------------------------- |\n",
    "| `GET`     | **Retrieve** data                  | Used to fetch data from the server (e.g., list users, get product info).  |\n",
    "| `POST`    | **Create** a new resource          | Sends data to the server to create a new resource (e.g., add a new user). |\n",
    "| `PUT`     | **Update** an existing resource    | Replaces an existing resource with new data (complete update).            |\n",
    "| `PATCH`   | **Modify** part of a resource      | Partially updates a resource (e.g., change only a user's email).          |\n",
    "| `DELETE`  | **Remove** a resource              | Deletes a specified resource from the server.                             |\n",
    "| `OPTIONS` | Describe communication options     | Used to determine supported methods or CORS settings for a resource.      |\n",
    "| `HEAD`    | Same as GET, without response body | Useful for checking if a resource exists or for testing.                  |\n"
   ]
  },
  {
   "cell_type": "markdown",
   "id": "df4898e0-a2c8-4343-b4f1-94483c4c42cb",
   "metadata": {},
   "source": [
    "Example: User Resource"
   ]
  },
  {
   "cell_type": "markdown",
   "id": "84ec973a-9044-48df-89f5-2e511e3613ae",
   "metadata": {},
   "source": [
    "Assume we have a REST API for managing users:"
   ]
  },
  {
   "cell_type": "markdown",
   "id": "cdc6991d-acf0-4bb3-9522-ee13a61bee87",
   "metadata": {},
   "source": [
    "| Action                 | HTTP Method | Endpoint   |\n",
    "| ---------------------- | ----------- | ---------- |\n",
    "| Get all users          | `GET`       | `/users`   |\n",
    "| Get user by ID         | `GET`       | `/users/1` |\n",
    "| Create a new user      | `POST`      | `/users`   |\n",
    "| Update user info       | `PUT`       | `/users/1` |\n",
    "| Partially update email | `PATCH`     | `/users/1` |\n",
    "| Delete a user          | `DELETE`    | `/users/1` |\n"
   ]
  },
  {
   "cell_type": "markdown",
   "id": "ed8d5da7-e150-445d-a7a4-433912f2f908",
   "metadata": {},
   "source": [
    "**Q 7. What is the purpose of the @app.route() decorator in Flask**"
   ]
  },
  {
   "cell_type": "markdown",
   "id": "b5812d2b-49c8-4f24-a595-8784e4dc31f9",
   "metadata": {},
   "source": [
    "**Ans.** The @app.route() decorator in Flask is used to bind a specific URL path to a Python function. This function is called a view function and is executed when a user accesses that URL in the browser or makes an HTTP request to it."
   ]
  },
  {
   "cell_type": "markdown",
   "id": "5a33478b-1a03-435f-a1c6-0568f000f57c",
   "metadata": {},
   "source": [
    "Key Purposes:"
   ]
  },
  {
   "cell_type": "code",
   "execution_count": null,
   "id": "0c993e8d-d2f4-43dc-a2dc-2444e13d817a",
   "metadata": {},
   "outputs": [],
   "source": [
    "- Defines a Route: It tells Flask which URL should trigger which function.\n",
    "Handles HTTP Requests: It allows you to specify which HTTP methods (GET, POST, etc.) are accepted at that route."
   ]
  },
  {
   "cell_type": "markdown",
   "id": "dc8157c8-85e8-443c-85a8-f57967952994",
   "metadata": {},
   "source": [
    "from flask import Flask\n",
    "\n",
    "app = Flask(__name__)\n",
    "\n",
    "@app.route('/')\n",
    "def home():\n",
    "    return \"Welcome to the Home Page\"\n"
   ]
  },
  {
   "cell_type": "markdown",
   "id": "389281bc-55c7-4f4f-874d-e250dd00ae6e",
   "metadata": {},
   "source": [
    "**Q 8.  What is the difference between GET and POST HTTP methods?**"
   ]
  },
  {
   "cell_type": "markdown",
   "id": "4a2fcd75-697c-48fa-98c7-130f3e58c189",
   "metadata": {},
   "source": [
    "**Ans.** The GET and POST methods are the two most commonly used HTTP request methods in web applications and RESTful APIs. They serve different purposes and behave differently."
   ]
  },
  {
   "cell_type": "markdown",
   "id": "84fe2428-131a-4407-ade8-d4ac5ff79875",
   "metadata": {},
   "source": [
    "| Feature          | `GET`                                  | `POST`                      |\n",
    "| ---------------- | -------------------------------------- | --------------------------- |\n",
    "| Purpose          | Retrieve data                          | Submit or send data         |\n",
    "| Data location    | URL query string                       | Request body                |\n",
    "| Visibility       | Visible in browser URL                 | Hidden from URL             |\n",
    "| Secure for data? | ❌ No (not suitable for sensitive data) | ✅ Yes (more secure)         |\n",
    "| Idempotent       | ✅ Yes                                  | ❌ No                        |\n",
    "| Use cases        | Fetching info                          | Creating or processing data |\n"
   ]
  },
  {
   "cell_type": "markdown",
   "id": "3ab6ff50-3645-4d07-bd2b-d69a776164a1",
   "metadata": {},
   "source": [
    "**Q 9.  How do you handle errors in Flask APIs?**"
   ]
  },
  {
   "cell_type": "markdown",
   "id": "778ad3cc-6f31-46f9-ad2c-2f3fe0f0317f",
   "metadata": {},
   "source": [
    "**Ans.** Error handling in Flask is essential for building robust, user-friendly, and debuggable APIs. Flask provides multiple ways to catch and respond to errors gracefully."
   ]
  },
  {
   "cell_type": "markdown",
   "id": "42c8d9e9-dfdc-4624-b78b-1e96fff16e35",
   "metadata": {},
   "source": [
    " 1. Using @app.errorhandler() Decorator"
   ]
  },
  {
   "cell_type": "markdown",
   "id": "ca0df132-9e1d-48ce-980f-4347967285ff",
   "metadata": {},
   "source": [
    "You can define custom responses for specific HTTP error codes (e.g., 404, 500):"
   ]
  },
  {
   "cell_type": "markdown",
   "id": "91c8ee57-db82-4a02-b9ed-0c9d180ac81a",
   "metadata": {},
   "source": [
    "from flask import Flask, jsonify\n",
    "\n",
    "app = Flask(__name__)\n",
    "\n",
    "@app.errorhandler(404)\n",
    "def not_found(error):\n",
    "    return jsonify({'error': 'Resource not found'}), 404\n",
    "\n",
    "@app.errorhandler(500)\n",
    "def server_error(error):\n",
    "    return jsonify({'error': 'Internal server error'}), 500\n"
   ]
  },
  {
   "cell_type": "code",
   "execution_count": null,
   "id": "2d09f5b2-28ca-40be-9831-92b69008bd46",
   "metadata": {},
   "outputs": [],
   "source": []
  },
  {
   "cell_type": "code",
   "execution_count": null,
   "id": "2dea953e-5dff-4d31-a28a-3fc18fb19d67",
   "metadata": {},
   "outputs": [],
   "source": []
  },
  {
   "cell_type": "code",
   "execution_count": null,
   "id": "bc4c8f1a-963a-4d67-918c-cd12960919b9",
   "metadata": {},
   "outputs": [],
   "source": []
  },
  {
   "cell_type": "code",
   "execution_count": null,
   "id": "a521a902-2a64-416e-a3f4-cfd6be8d71f1",
   "metadata": {},
   "outputs": [],
   "source": []
  },
  {
   "cell_type": "code",
   "execution_count": null,
   "id": "99c6a932-42fe-49ae-bef2-d196714a1ed6",
   "metadata": {},
   "outputs": [],
   "source": []
  }
 ],
 "metadata": {
  "kernelspec": {
   "display_name": "Python 3 (ipykernel)",
   "language": "python",
   "name": "python3"
  },
  "language_info": {
   "codemirror_mode": {
    "name": "ipython",
    "version": 3
   },
   "file_extension": ".py",
   "mimetype": "text/x-python",
   "name": "python",
   "nbconvert_exporter": "python",
   "pygments_lexer": "ipython3",
   "version": "3.13.3"
  }
 },
 "nbformat": 4,
 "nbformat_minor": 5
}
